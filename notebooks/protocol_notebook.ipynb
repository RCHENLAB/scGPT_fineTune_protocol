{
 "cells": [
  {
   "cell_type": "markdown",
   "source": [
    "# eye-scGPT Fine-Tuning Protocol Notebook\n",
    "`Maintainer: Shanli Ding` \\\n",
    "This is the one-stop notebook that contains all steps described in the fine-tuning protocol. It is recommended to use this notebook on Colab or any other cloud-based computing node."
   ],
   "metadata": {
    "collapsed": false
   },
   "id": "fd8ac7da9ae20c57"
  },
  {
   "metadata": {},
   "cell_type": "markdown",
   "source": "Un-comment and Run the following code if using Colab",
   "id": "d313c187e1964549"
  },
  {
   "metadata": {},
   "cell_type": "code",
   "outputs": [],
   "execution_count": null,
   "source": [
    "# from google.colab import drive\n",
    "# drive.mount('/content/drive')"
   ],
   "id": "e94fb53cb877251d"
  },
  {
   "metadata": {},
   "cell_type": "markdown",
   "source": "## Installation",
   "id": "2fd3d4035d2d5ef1"
  },
  {
   "metadata": {},
   "cell_type": "code",
   "outputs": [],
   "execution_count": null,
   "source": "!pip install scgpt scanpy scvi-tools wandb louvain memory_profiler click",
   "id": "51fbcda280ef071a"
  },
  {
   "metadata": {},
   "cell_type": "markdown",
   "source": "## Exploratory Data Analysis",
   "id": "93339d4bfbd5b93c"
  },
  {
   "metadata": {},
   "cell_type": "markdown",
   "source": "### Imports",
   "id": "f45e6570902621a5"
  },
  {
   "metadata": {},
   "cell_type": "code",
   "outputs": [],
   "execution_count": null,
   "source": [
    "import scanpy as sc\n",
    "import seaborn as sns\n",
    "import matplotlib.pyplot as plt"
   ],
   "id": "1bdc2d71a1671249"
  },
  {
   "metadata": {},
   "cell_type": "code",
   "outputs": [],
   "execution_count": null,
   "source": [
    "adata = sc.read('TRAIN_snRNA.h5ad', backup_url='DATA_URL')\n",
    "print(adata)"
   ],
   "id": "def0158ad9251516"
  },
  {
   "metadata": {},
   "cell_type": "markdown",
   "source": "### Visualize the distribution of the number of genes per cell",
   "id": "b89a357f2feb721c"
  },
  {
   "metadata": {},
   "cell_type": "code",
   "outputs": [],
   "execution_count": null,
   "source": [
    "sc.pp.calculate_qc_metrics(adata, inplace=True)\n",
    "sns.histplot(adata.obs['n_genes_by_counts'], bins=50, kde=False)\n",
    "plt.xlabel('Number of genes per cell')\n",
    "plt.ylabel('Frequency')\n",
    "plt.title('Distribution of Genes per Cell')\n",
    "plt.show()"
   ],
   "id": "6ea734c43c44c2b5"
  },
  {
   "metadata": {},
   "cell_type": "markdown",
   "source": "### Visualize the distribution of how many cells express each gene",
   "id": "4497234884ba8ca8"
  },
  {
   "metadata": {},
   "cell_type": "code",
   "outputs": [],
   "execution_count": null,
   "source": [
    "adata.var['n_cells_by_counts'] = (adata.X > 0).sum(axis=0)\n",
    "sns.histplot(adata.var['n_cells_by_counts'], bins=50, kde=False)\n",
    "plt.xlabel('Number of cells per gene')\n",
    "plt.ylabel('Frequency')\n",
    "plt.title('Distribution of Cells per Gene')\n",
    "plt.show()"
   ],
   "id": "a0b84e8e01ec3076"
  },
  {
   "metadata": {},
   "cell_type": "markdown",
   "source": [
    "### Filter cells and genes based on findings\n",
    "> E.g., min_genes=500, min_cells=10"
   ],
   "id": "b2997f6d7b743d14"
  },
  {
   "metadata": {},
   "cell_type": "code",
   "outputs": [],
   "execution_count": null,
   "source": [
    "sc.pp.filter_cells(adata, min_genes=500, max_genes=5000)\n",
    "sc.pp.filter_genes(adata, min_cells=10)"
   ],
   "id": "686adcb8c524cc53"
  },
  {
   "metadata": {},
   "cell_type": "markdown",
   "source": [
    "### Identify highly variable genes (HVGs)\n",
    "The accompanying plot will indicate if the selected number of HVGs is appropriate"
   ],
   "id": "62f64a461dd578da"
  },
  {
   "metadata": {},
   "cell_type": "code",
   "outputs": [],
   "execution_count": null,
   "source": [
    "sc.pp.highly_variable_genes(adata, n_top_genes=5000)\n",
    "sc.pl.highly_variable_genes(adata)"
   ],
   "id": "51109ef4a1ff7a18"
  },
  {
   "metadata": {},
   "cell_type": "markdown",
   "source": "### Visualize the filtered data using a violin plot to assess data distribution",
   "id": "fd06053be7f2efb0"
  },
  {
   "metadata": {},
   "cell_type": "code",
   "outputs": [],
   "execution_count": null,
   "source": "sc.pl.violin(adata, ['n_genes_by_counts', 'total_counts'], jitter=0.4)",
   "id": "2d8068226341cd8d"
  },
  {
   "metadata": {},
   "cell_type": "markdown",
   "source": "## Preprocess",
   "id": "572df4ec90ba0609"
  },
  {
   "metadata": {},
   "cell_type": "markdown",
   "source": [
    "### Preprocess datasets for fine-tuning\n",
    "```bash\n",
    "--cell_type_col\n",
    "--batch_id_col\n",
    "```\n",
    "These are 2 required parameters in order to run the next fine-tuning task"
   ],
   "id": "82aff5923bb0ffdd"
  },
  {
   "cell_type": "code",
   "execution_count": null,
   "id": "initial_id",
   "metadata": {
    "collapsed": true,
    "ExecuteTime": {
     "end_time": "2024-04-25T18:27:36.259147Z",
     "start_time": "2024-04-25T18:27:36.253808Z"
    }
   },
   "outputs": [],
   "source": [
    "!python protocol_preprocess.py \\\n",
    "--dataset_directory=./dataset/EVAL/EVAL_BC_class.h5ad \\\n",
    "--cell_type_col=celltype \\\n",
    "--batch_id_col=sampleid \\\n",
    "--n_hvg=5000 \\\n",
    "--load_model=./pretrained_model/scGPT_human \\\n",
    "--wandb_project=bc_evaluation \\\n",
    "--wandb_sync=True"
   ]
  },
  {
   "metadata": {},
   "cell_type": "markdown",
   "source": [
    "### Preprocess datasets for inference / evaluation\n",
    "```bash\n",
    "--load_model\n",
    "```\n",
    "It is required to have a loading directory to the model"
   ],
   "id": "b68b6c58b8361712"
  },
  {
   "metadata": {},
   "cell_type": "code",
   "outputs": [],
   "execution_count": null,
   "source": [
    "!python protocol_preprocess.py \\\n",
    "--dataset_directory=./dataset/EVAL/EVAL_BC_class.h5ad \\\n",
    "--n_hvg=5000 \\\n",
    "--load_model=./save/AiO_finetune \\\n",
    "--wandb_project=bc_evaluation \\\n",
    "--wandb_sync=True"
   ],
   "id": "e54680d1c3c14a7f"
  },
  {
   "metadata": {},
   "cell_type": "markdown",
   "source": [
    "## Fine-tune\n",
    "Note:\n",
    "`--max_seq_len must be less than/equal to --n_hvg`"
   ],
   "id": "67e4f94c389d049c"
  },
  {
   "cell_type": "code",
   "outputs": [],
   "source": [
    "!python protocol_finetune.py \\\n",
    "--max_seq_len=5001 \\\n",
    "--config=train \\\n",
    "--include_zero_gene=False \\\n",
    "--epochs=2 \\\n",
    "--batch_size=32 \\\n",
    "--schedule_ratio=0.9"
   ],
   "metadata": {
    "collapsed": false,
    "ExecuteTime": {
     "end_time": "2024-04-25T18:27:36.262931Z",
     "start_time": "2024-04-25T18:27:36.259992Z"
    }
   },
   "id": "ce61d9805bf9f80b",
   "execution_count": 0
  },
  {
   "metadata": {},
   "cell_type": "markdown",
   "source": "## Inference / Evaluation",
   "id": "3a0924d2e76af3cc"
  },
  {
   "metadata": {},
   "cell_type": "markdown",
   "source": [
    "### Inference task\n",
    "This task can ignore the fine-tuning step, but using the different preprocess configurations. \\\n",
    "`--load_model` is the required parameter for performing inferences."
   ],
   "id": "992b1eff6a7805ec"
  },
  {
   "cell_type": "code",
   "outputs": [],
   "source": [
    "python protocol_preprocess.py \\\n",
    "--dataset_directory=./data/EVAL/EVAL_BC_class.h5ad \\\n",
    "--load_model=./save/dev_protocol_finetune-Jan01-01-01-01 \\\n",
    "--wandb_project=BC_inference \\\n",
    "--wandb_sync=True"
   ],
   "metadata": {
    "collapsed": false,
    "ExecuteTime": {
     "end_time": "2024-04-25T18:27:36.265921Z",
     "start_time": "2024-04-25T18:27:36.263823Z"
    }
   },
   "id": "68537b73adba2cfb",
   "execution_count": 0
  },
  {
   "metadata": {},
   "cell_type": "markdown",
   "source": [
    "#### Start Inference\n",
    "At the end, all results are stored into one directory that can be found in logs. \\\n",
    "Files including: `predictions csv`, `run.log`"
   ],
   "id": "820745f2a6814ce3"
  },
  {
   "cell_type": "code",
   "outputs": [],
   "source": [
    "!python protocol_inference.py \\\n",
    "--load_model=/save/dev_protocol_finetune-Jan01-01-01-01 \\\n",
    "--batch_size=32 \\\n",
    "--wandb_sync=True \\\n",
    "--wandb_project=benchmark_BC \\\n",
    "--wandb_name=sample_bm_0101"
   ],
   "metadata": {
    "collapsed": false,
    "ExecuteTime": {
     "end_time": "2024-04-25T18:27:36.272483Z",
     "start_time": "2024-04-25T18:27:36.267712Z"
    }
   },
   "id": "bf5c4cd322c2ad2c",
   "execution_count": 0
  },
  {
   "metadata": {},
   "cell_type": "markdown",
   "source": [
    "### Evaluation task\n",
    "```bash\n",
    "--cell_type_col\n",
    "--batch_id_col\n",
    "```\n",
    "These 2 parameters are required to do the evaluation."
   ],
   "id": "50a231fb8813eb91"
  },
  {
   "metadata": {},
   "cell_type": "code",
   "outputs": [],
   "execution_count": null,
   "source": [
    "python protocol_preprocess.py \\\n",
    "--dataset_directory=./data/EVAL/EVAL_BC_class.h5ad \\\n",
    "--cell_type_col=celltype \\\n",
    "--batch_id_col=sampleid \\\n",
    "--load_model=./save/dev_protocol_finetune-Jan01-01-01-01 \\\n",
    "--wandb_project=BC_evaluation \\\n",
    "--wandb_sync=True"
   ],
   "id": "e1f62a2ee40f371b"
  },
  {
   "metadata": {},
   "cell_type": "markdown",
   "source": [
    "#### Start Evaluation\n",
    "At the end, all results are stored into one directory that can be found in logs. \\\n",
    "Files including: `predictions csv`, `run.log`, `prediction vs. ground truth UMAP`, `results in a serialized pickle file`, `results in a JSON file`, `confusion matrix`."
   ],
   "id": "78042997e281614a"
  },
  {
   "metadata": {},
   "cell_type": "code",
   "outputs": [],
   "execution_count": null,
   "source": [
    "python protocol_inference.py \\\n",
    "--load_model=./save/dev_retina_finetune-Jan01-01-01-01 \\\n",
    "--wandb_sync=true \\\n",
    "--wandb_project=BC_evaluation \\\n",
    "--wandb_name=bm_BC"
   ],
   "id": "bb19824cb3eb4f6c"
  }
 ],
 "metadata": {
  "kernelspec": {
   "display_name": "Python 3",
   "language": "python",
   "name": "python3"
  },
  "language_info": {
   "codemirror_mode": {
    "name": "ipython",
    "version": 2
   },
   "file_extension": ".py",
   "mimetype": "text/x-python",
   "name": "python",
   "nbconvert_exporter": "python",
   "pygments_lexer": "ipython2",
   "version": "2.7.6"
  }
 },
 "nbformat": 4,
 "nbformat_minor": 5
}

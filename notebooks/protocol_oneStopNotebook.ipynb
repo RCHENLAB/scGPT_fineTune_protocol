{
 "cells": [
  {
   "cell_type": "markdown",
   "source": [
    "# eye-scGPT Fine-Tuning Protocol Notebook\n",
    "> Nature Protocol: [link](google.com)\n",
    "> Authors: SD\n",
    "> Contact: RC\n",
    "\n",
    "This is the one-stop notebook that contains all steps described in the fine-tuning protocol."
   ],
   "metadata": {
    "collapsed": false
   },
   "id": "fd8ac7da9ae20c57"
  },
  {
   "cell_type": "code",
   "execution_count": null,
   "id": "initial_id",
   "metadata": {
    "collapsed": true,
    "ExecuteTime": {
     "end_time": "2024-04-25T18:27:36.259147Z",
     "start_time": "2024-04-25T18:27:36.253808Z"
    }
   },
   "outputs": [],
   "source": []
  },
  {
   "cell_type": "code",
   "outputs": [],
   "source": [],
   "metadata": {
    "collapsed": false,
    "ExecuteTime": {
     "end_time": "2024-04-25T18:27:36.262931Z",
     "start_time": "2024-04-25T18:27:36.259992Z"
    }
   },
   "id": "ce61d9805bf9f80b",
   "execution_count": 0
  },
  {
   "cell_type": "code",
   "outputs": [],
   "source": [],
   "metadata": {
    "collapsed": false,
    "ExecuteTime": {
     "end_time": "2024-04-25T18:27:36.263497Z",
     "start_time": "2024-04-25T18:27:36.261865Z"
    }
   },
   "id": "2258e16ac72d941a",
   "execution_count": 0
  },
  {
   "cell_type": "code",
   "outputs": [],
   "source": [],
   "metadata": {
    "collapsed": false,
    "ExecuteTime": {
     "end_time": "2024-04-25T18:27:36.265921Z",
     "start_time": "2024-04-25T18:27:36.263823Z"
    }
   },
   "id": "68537b73adba2cfb",
   "execution_count": 0
  },
  {
   "cell_type": "code",
   "outputs": [],
   "source": [],
   "metadata": {
    "collapsed": false,
    "ExecuteTime": {
     "end_time": "2024-04-25T18:27:36.268680Z",
     "start_time": "2024-04-25T18:27:36.265928Z"
    }
   },
   "id": "8117f95ec1f28ae6",
   "execution_count": 0
  },
  {
   "cell_type": "code",
   "outputs": [],
   "source": [],
   "metadata": {
    "collapsed": false,
    "ExecuteTime": {
     "end_time": "2024-04-25T18:27:36.272483Z",
     "start_time": "2024-04-25T18:27:36.267712Z"
    }
   },
   "id": "bf5c4cd322c2ad2c",
   "execution_count": 0
  },
  {
   "cell_type": "code",
   "outputs": [],
   "source": [],
   "metadata": {
    "collapsed": false,
    "ExecuteTime": {
     "end_time": "2024-04-25T18:27:36.272947Z",
     "start_time": "2024-04-25T18:27:36.269669Z"
    }
   },
   "id": "a473bdfc17397427",
   "execution_count": 0
  },
  {
   "cell_type": "code",
   "outputs": [],
   "source": [],
   "metadata": {
    "collapsed": false
   },
   "id": "4ef4cbfa623d0afb"
  }
 ],
 "metadata": {
  "kernelspec": {
   "display_name": "Python 3",
   "language": "python",
   "name": "python3"
  },
  "language_info": {
   "codemirror_mode": {
    "name": "ipython",
    "version": 2
   },
   "file_extension": ".py",
   "mimetype": "text/x-python",
   "name": "python",
   "nbconvert_exporter": "python",
   "pygments_lexer": "ipython2",
   "version": "2.7.6"
  }
 },
 "nbformat": 4,
 "nbformat_minor": 5
}

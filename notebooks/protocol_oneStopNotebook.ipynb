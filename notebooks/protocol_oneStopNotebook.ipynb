{
 "cells": [
  {
   "cell_type": "markdown",
   "source": [
    "# eye-scGPT Fine-Tuning Protocol Notebook\n",
    "`Maintainer: Shanli Ding` \\\n",
    "This is the one-stop notebook that contains all steps described in the fine-tuning protocol."
   ],
   "metadata": {
    "collapsed": false
   },
   "id": "fd8ac7da9ae20c57"
  },
  {
   "metadata": {},
   "cell_type": "markdown",
   "source": "## Fine-tuning Task",
   "id": "572df4ec90ba0609"
  },
  {
   "metadata": {},
   "cell_type": "markdown",
   "source": [
    "### Pre-process\n",
    "Prepare the dataset"
   ],
   "id": "2c8b737757989692"
  },
  {
   "cell_type": "code",
   "execution_count": null,
   "id": "initial_id",
   "metadata": {
    "collapsed": true,
    "ExecuteTime": {
     "end_time": "2024-04-25T18:27:36.259147Z",
     "start_time": "2024-04-25T18:27:36.253808Z"
    }
   },
   "outputs": [],
   "source": [
    "!python protocol_preprocess.py \\\n",
    "    --dataset_directory=/datasets/retina_snRNA.h5ad \\\n",
    "    --cell_type_col=celltype \\\n",
    "    --batch_id_col=sampleid \\\n",
    "    --n_hvg=5000 \\\n",
    "    --load_model=../scGPT_human \\\n",
    "    --wandb_sync=True \\\n",
    "    --wandb_project=finetune_retina_snRNA \\\n",
    "    --wandb_name=finetune_example1"
   ]
  },
  {
   "metadata": {},
   "cell_type": "markdown",
   "source": [
    "### Start Fine-tune\n",
    "Create a fine-tuning task \\\n",
    "`--max_seq_len must be less than/equal to --n_hvg`"
   ],
   "id": "67e4f94c389d049c"
  },
  {
   "cell_type": "code",
   "outputs": [],
   "source": [
    "!python protocol_finetune.py \\\n",
    "    --max_seq_len=5001 \\\n",
    "    --include_zero_gene=True \\\n",
    "    --epochs=3 \\\n",
    "    --batch_size=32 \\\n",
    "    --lr=1e-4 \\\n",
    "    --schedule_ratio=0.9"
   ],
   "metadata": {
    "collapsed": false,
    "ExecuteTime": {
     "end_time": "2024-04-25T18:27:36.262931Z",
     "start_time": "2024-04-25T18:27:36.259992Z"
    }
   },
   "id": "ce61d9805bf9f80b",
   "execution_count": 0
  },
  {
   "metadata": {},
   "cell_type": "markdown",
   "source": "## Inference Task",
   "id": "3a0924d2e76af3cc"
  },
  {
   "metadata": {},
   "cell_type": "markdown",
   "source": [
    "### Pre-process\n",
    "Prepare the inference dataset"
   ],
   "id": "992b1eff6a7805ec"
  },
  {
   "cell_type": "code",
   "outputs": [],
   "source": [
    "!python protocol_preprocess.py \\\n",
    "    --dataset_directory=/project/data/EVAL/EVAL_BC_class.h5ad \\\n",
    "    --cell_type_col=celltype \\\n",
    "    --batch_id_col=sampleid \\\n",
    "    --load_model=/project/pretrained_models/scgpt_human \\\n",
    "    --wandb_project=bc_test \\\n",
    "    --wandb_sync=True"
   ],
   "metadata": {
    "collapsed": false,
    "ExecuteTime": {
     "end_time": "2024-04-25T18:27:36.265921Z",
     "start_time": "2024-04-25T18:27:36.263823Z"
    }
   },
   "id": "68537b73adba2cfb",
   "execution_count": 0
  },
  {
   "metadata": {},
   "cell_type": "markdown",
   "source": [
    "### Start Inference\n",
    "Create a inference task"
   ],
   "id": "820745f2a6814ce3"
  },
  {
   "cell_type": "code",
   "outputs": [],
   "source": [
    "!python protocol_inference.py \\\n",
    "    --load_model=/save/dev_eyeGPT-May21-10-20-10 \\\n",
    "    --batch_size=32 \\\n",
    "    --wandb_sync=True \\\n",
    "    --wandb_project=benchmark_BC \\\n",
    "    --wandb_name=sample_bm_0521"
   ],
   "metadata": {
    "collapsed": false,
    "ExecuteTime": {
     "end_time": "2024-04-25T18:27:36.272483Z",
     "start_time": "2024-04-25T18:27:36.267712Z"
    }
   },
   "id": "bf5c4cd322c2ad2c",
   "execution_count": 0
  }
 ],
 "metadata": {
  "kernelspec": {
   "display_name": "Python 3",
   "language": "python",
   "name": "python3"
  },
  "language_info": {
   "codemirror_mode": {
    "name": "ipython",
    "version": 2
   },
   "file_extension": ".py",
   "mimetype": "text/x-python",
   "name": "python",
   "nbconvert_exporter": "python",
   "pygments_lexer": "ipython2",
   "version": "2.7.6"
  }
 },
 "nbformat": 4,
 "nbformat_minor": 5
}
